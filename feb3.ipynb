{
 "cells": [
  {
   "cell_type": "code",
   "execution_count": 3,
   "id": "17d7f655-b820-4342-9508-febe38780d9d",
   "metadata": {},
   "outputs": [],
   "source": [
    "def test1():\n",
    "    odd = []\n",
    "    for i in range(1, 26):\n",
    "        if i % 2 != 0:\n",
    "            odd.append(i)\n",
    "    return odd\n",
    "            \n",
    "    "
   ]
  },
  {
   "cell_type": "code",
   "execution_count": 6,
   "id": "ebdf1e15-d451-45f9-a690-315fa54cb8b2",
   "metadata": {},
   "outputs": [
    {
     "data": {
      "text/plain": [
       "[1, 3, 5, 7, 9, 11, 13, 15, 17, 19, 21, 23, 25]"
      ]
     },
     "execution_count": 6,
     "metadata": {},
     "output_type": "execute_result"
    }
   ],
   "source": [
    "test1()\n"
   ]
  },
  {
   "cell_type": "markdown",
   "id": "3d1b8e26-c641-4061-83d1-f2a8e9e0437c",
   "metadata": {},
   "source": [
    "*args is used as it take any number of arguments whereas **kwargs takes any number of inputs but in terms of key and value pairs.\n"
   ]
  },
  {
   "cell_type": "code",
   "execution_count": 30,
   "id": "4cd7b9d7-48b1-45b5-ade0-f52595b53cc0",
   "metadata": {},
   "outputs": [],
   "source": [
    "def test2(*args):\n",
    "    l = []\n",
    "    for i in args:\n",
    "        if type(i) == list :\n",
    "            l.append(i)\n",
    "    return l"
   ]
  },
  {
   "cell_type": "code",
   "execution_count": 31,
   "id": "859e30d1-86fc-482c-882f-b75fcbaa7e43",
   "metadata": {},
   "outputs": [
    {
     "data": {
      "text/plain": [
       "[[1, 23, 45, 67, 78], [2, 3, 4, 5]]"
      ]
     },
     "execution_count": 31,
     "metadata": {},
     "output_type": "execute_result"
    }
   ],
   "source": [
    "test2([1,23,45,67,78],(1,2,3,4),\"Av\",\"va\",\"ab\",[2,3,4,5])\n"
   ]
  },
  {
   "cell_type": "code",
   "execution_count": 58,
   "id": "5e8605e6-9b2f-4ac6-bf4c-b5a374e26426",
   "metadata": {},
   "outputs": [],
   "source": [
    "def test3(**kwargs):\n",
    "     return kwargs"
   ]
  },
  {
   "cell_type": "code",
   "execution_count": 59,
   "id": "d3d3d9e7-1aef-4e2d-9db6-3a590d33e159",
   "metadata": {},
   "outputs": [
    {
     "data": {
      "text/plain": [
       "{'a': 4, 'b': 26, 'c': 134}"
      ]
     },
     "execution_count": 59,
     "metadata": {},
     "output_type": "execute_result"
    }
   ],
   "source": [
    "test3(a = 4 , b = 26 , c = 134 )"
   ]
  },
  {
   "cell_type": "markdown",
   "id": "ed7906cd-f6d0-4fcd-b353-9d72109c1bbe",
   "metadata": {},
   "source": [
    "An iterator is a object  which consists of the __iter__ and __next__ methods. An object that implements these methods is called an iterable object, and it can be used to iterate over a sequence of values.\n",
    "The __iter__ method is used to initialize the iterator object, and the __next__ method is used for iteration. The __iter__ method should return the iterator object itself, and the __next__ method should return the next value in the sequence or raise the StopIteration exception if there are no more values."
   ]
  },
  {
   "cell_type": "code",
   "execution_count": 113,
   "id": "66e6ca88-5b6d-4979-9895-739603a62459",
   "metadata": {},
   "outputs": [
    {
     "ename": "IndentationError",
     "evalue": "unexpected indent (2672404353.py, line 2)",
     "output_type": "error",
     "traceback": [
      "\u001b[0;36m  Cell \u001b[0;32mIn[113], line 2\u001b[0;36m\u001b[0m\n\u001b[0;31m    iter1 = iter(l)\u001b[0m\n\u001b[0m    ^\u001b[0m\n\u001b[0;31mIndentationError\u001b[0m\u001b[0;31m:\u001b[0m unexpected indent\n"
     ]
    }
   ],
   "source": [
    " l=[2, 4, 6, 8, 10, 12, 14, 16, 18, 20]\n",
    "    iter1 = iter(l)\n",
    "    for i in range(5):\n",
    "    print(iter1.__next__())"
   ]
  },
  {
   "cell_type": "markdown",
   "id": "0af67924-db62-44d0-9ac4-2f4e20902768",
   "metadata": {},
   "source": [
    "A generator function is a special type of function in Python that uses the yield keyword to produce a sequence of values one at a time. Unlike normal functions, which return a single value and then terminate, a generator function can be paused and resumed, allowing it to produce a sequence of values without needing to generate them all at once."
   ]
  },
  {
   "cell_type": "code",
   "execution_count": 94,
   "id": "2bf968c4-5e1f-4631-b440-74634906a9fb",
   "metadata": {},
   "outputs": [],
   "source": [
    "def squares(n):\n",
    "    for i in range(n):\n",
    "        yield i ** 2\n",
    "       "
   ]
  },
  {
   "cell_type": "code",
   "execution_count": 95,
   "id": "b32583db-67c5-4f5f-b76a-3e5dfcda6bac",
   "metadata": {},
   "outputs": [
    {
     "name": "stdout",
     "output_type": "stream",
     "text": [
      "0\n",
      "1\n",
      "4\n",
      "9\n",
      "16\n"
     ]
    }
   ],
   "source": [
    " sq = squares(5)\n",
    "for i in range(5):\n",
    "    print(next(sq))"
   ]
  },
  {
   "cell_type": "code",
   "execution_count": 105,
   "id": "277d34ae-e20b-4df1-b364-83373ea616ec",
   "metadata": {},
   "outputs": [],
   "source": [
    "def primes():\n",
    "    \n",
    "    for num in range(2, 1000):\n",
    "        for i in range(2, num):\n",
    "            if num % i == 0:\n",
    "                break\n",
    "        else:\n",
    "            yield num"
   ]
  },
  {
   "cell_type": "code",
   "execution_count": 107,
   "id": "35f78a7f-da28-447a-b7a8-31b9b58cf8a3",
   "metadata": {},
   "outputs": [
    {
     "name": "stdout",
     "output_type": "stream",
     "text": [
      "2\n",
      "3\n",
      "5\n",
      "7\n",
      "11\n",
      "13\n",
      "17\n",
      "19\n",
      "23\n",
      "29\n",
      "31\n",
      "37\n",
      "41\n",
      "43\n",
      "47\n",
      "53\n",
      "59\n",
      "61\n",
      "67\n",
      "71\n"
     ]
    }
   ],
   "source": [
    "prime_gen = primes()\n",
    "for i in range(20):\n",
    "    print(next(prime_gen))"
   ]
  },
  {
   "cell_type": "code",
   "execution_count": null,
   "id": "8efb6009-74ab-4872-950a-5ac396e7ab2b",
   "metadata": {},
   "outputs": [],
   "source": []
  }
 ],
 "metadata": {
  "kernelspec": {
   "display_name": "Python 3 (ipykernel)",
   "language": "python",
   "name": "python3"
  },
  "language_info": {
   "codemirror_mode": {
    "name": "ipython",
    "version": 3
   },
   "file_extension": ".py",
   "mimetype": "text/x-python",
   "name": "python",
   "nbconvert_exporter": "python",
   "pygments_lexer": "ipython3",
   "version": "3.10.8"
  }
 },
 "nbformat": 4,
 "nbformat_minor": 5
}
